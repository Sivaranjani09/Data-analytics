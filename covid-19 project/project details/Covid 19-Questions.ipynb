{
 "cells": [
  {
   "cell_type": "code",
   "execution_count": 1,
   "id": "7bd0ca6e",
   "metadata": {},
   "outputs": [],
   "source": [
    "#uploading required libraries and COVID-19 Coronavirus data set.\n"
   ]
  },
  {
   "cell_type": "code",
   "execution_count": 2,
   "id": "44c4bf07",
   "metadata": {},
   "outputs": [],
   "source": [
    "#check the shape\n"
   ]
  },
  {
   "cell_type": "code",
   "execution_count": 3,
   "id": "730b7f8b",
   "metadata": {},
   "outputs": [],
   "source": [
    "#check head\n",
    "\n"
   ]
  },
  {
   "cell_type": "code",
   "execution_count": 4,
   "id": "7f44a6f5",
   "metadata": {},
   "outputs": [],
   "source": [
    "#check tail\n"
   ]
  },
  {
   "cell_type": "code",
   "execution_count": 5,
   "id": "3cb773e2",
   "metadata": {},
   "outputs": [],
   "source": [
    "#check info\n"
   ]
  },
  {
   "cell_type": "code",
   "execution_count": 6,
   "id": "97a0d4cd",
   "metadata": {},
   "outputs": [],
   "source": [
    "#check missing values\n"
   ]
  },
  {
   "cell_type": "code",
   "execution_count": 7,
   "id": "a1220e05",
   "metadata": {},
   "outputs": [],
   "source": [
    "#so we have one missing values"
   ]
  },
  {
   "cell_type": "code",
   "execution_count": 8,
   "id": "d3ad77db",
   "metadata": {},
   "outputs": [],
   "source": [
    "# check row which contains null values (Hint axis=1)\n"
   ]
  },
  {
   "cell_type": "code",
   "execution_count": 9,
   "id": "0997faa6",
   "metadata": {},
   "outputs": [],
   "source": [
    "#fill null value with most suitable value (hint to replace,use inplace=True)\n",
    " #replacing Nan with Montenegro"
   ]
  },
  {
   "cell_type": "code",
   "execution_count": 10,
   "id": "3d05cd8e",
   "metadata": {},
   "outputs": [],
   "source": [
    "#sanity check weather null values are replaced or not\n",
    " #checking weather it is replaced or not"
   ]
  },
  {
   "cell_type": "code",
   "execution_count": 11,
   "id": "8e1b2dc4",
   "metadata": {},
   "outputs": [],
   "source": [
    "#check stats information of data set.\n"
   ]
  },
  {
   "cell_type": "code",
   "execution_count": 12,
   "id": "5997834d",
   "metadata": {},
   "outputs": [],
   "source": [
    "# rename column iso 3166-1 alpha 3 CODE to Iso_Code\n"
   ]
  },
  {
   "cell_type": "code",
   "execution_count": 13,
   "id": "2cc7a109",
   "metadata": {},
   "outputs": [],
   "source": [
    "# top 5 countries which have more number of covid cases (hint use df.nlargest)\n"
   ]
  },
  {
   "cell_type": "code",
   "execution_count": 14,
   "id": "183b0c57",
   "metadata": {},
   "outputs": [],
   "source": [
    "#plot bar graph for top 5 countries\n"
   ]
  },
  {
   "cell_type": "code",
   "execution_count": 15,
   "id": "224b30d2",
   "metadata": {},
   "outputs": [],
   "source": [
    "# least 5 countries which have least number of covid cases\n"
   ]
  },
  {
   "cell_type": "code",
   "execution_count": 16,
   "id": "01c330f1",
   "metadata": {},
   "outputs": [],
   "source": [
    "#draw bar graph of least 5 countries\n"
   ]
  },
  {
   "cell_type": "code",
   "execution_count": 17,
   "id": "007cc418",
   "metadata": {},
   "outputs": [],
   "source": [
    "#top 5 countries which have more number of covid Deaths\n"
   ]
  },
  {
   "cell_type": "code",
   "execution_count": 18,
   "id": "ceed3e7c",
   "metadata": {},
   "outputs": [],
   "source": [
    "#plot bar graph for top 5 countries which have more number of covid Deaths\n"
   ]
  },
  {
   "cell_type": "code",
   "execution_count": 19,
   "id": "163e01d9",
   "metadata": {},
   "outputs": [],
   "source": [
    "#5 countries which have least number of covid Death\n"
   ]
  },
  {
   "cell_type": "code",
   "execution_count": 20,
   "id": "ffce9c57",
   "metadata": {},
   "outputs": [],
   "source": [
    "#Death percentage\n",
    "#top 5 countries which have more number of covid  Death percentage \n"
   ]
  },
  {
   "cell_type": "code",
   "execution_count": 21,
   "id": "70cd59cf",
   "metadata": {},
   "outputs": [],
   "source": [
    "#plot bar graph for top 5 countries which have more number of covid  Death percentage \n"
   ]
  },
  {
   "cell_type": "code",
   "execution_count": 22,
   "id": "8266f83d",
   "metadata": {},
   "outputs": [],
   "source": [
    "#continent wise cases (hint use group by)\n"
   ]
  },
  {
   "cell_type": "code",
   "execution_count": 23,
   "id": "bcadcfeb",
   "metadata": {},
   "outputs": [],
   "source": [
    "#draw bar plot for continent wise case\n"
   ]
  },
  {
   "cell_type": "code",
   "execution_count": 24,
   "id": "8183c8c6",
   "metadata": {},
   "outputs": [],
   "source": [
    "#find relationship between Population and total cases.Comment  on outliers\n"
   ]
  },
  {
   "cell_type": "code",
   "execution_count": 25,
   "id": "64678dec",
   "metadata": {},
   "outputs": [],
   "source": [
    "#find relationship between Population and total cases.Comment  on outliers\n"
   ]
  },
  {
   "cell_type": "code",
   "execution_count": null,
   "id": "626297fa",
   "metadata": {},
   "outputs": [],
   "source": []
  }
 ],
 "metadata": {
  "kernelspec": {
   "display_name": "Python 3",
   "language": "python",
   "name": "python3"
  },
  "language_info": {
   "codemirror_mode": {
    "name": "ipython",
    "version": 3
   },
   "file_extension": ".py",
   "mimetype": "text/x-python",
   "name": "python",
   "nbconvert_exporter": "python",
   "pygments_lexer": "ipython3",
   "version": "3.8.8"
  }
 },
 "nbformat": 4,
 "nbformat_minor": 5
}
